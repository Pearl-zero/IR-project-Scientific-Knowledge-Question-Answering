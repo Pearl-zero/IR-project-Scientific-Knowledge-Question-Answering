{
 "cells": [
  {
   "cell_type": "markdown",
   "metadata": {},
   "source": [
    "# IR EDA"
   ]
  },
  {
   "cell_type": "markdown",
   "metadata": {},
   "source": [
    "## 1. documents.isonl"
   ]
  },
  {
   "cell_type": "code",
   "execution_count": 22,
   "metadata": {},
   "outputs": [],
   "source": [
    "import json\n",
    "import pandas as pd\n",
    "import matplotlib.pyplot as plt\n",
    "from collections import Counter"
   ]
  },
  {
   "cell_type": "code",
   "execution_count": null,
   "metadata": {},
   "outputs": [],
   "source": [
    "# JSONL 파일 읽기\n",
    "data = []\n",
    "with open('/root/documents.jsonl', 'r', encoding='utf-8') as f:\n",
    "    for line in f:\n",
    "        data.append(json.loads(line))\n",
    "\n",
    "# DataFrame으로 변환\n",
    "df = pd.DataFrame(data)"
   ]
  },
  {
   "cell_type": "code",
   "execution_count": 14,
   "metadata": {},
   "outputs": [
    {
     "name": "stdout",
     "output_type": "stream",
     "text": [
      "처음 5개 행:\n",
      "                                  docid  \\\n",
      "0  42508ee0-c543-4338-878e-d98c6babee66   \n",
      "1  4a437e7f-16c1-4c62-96b9-f173d44f4339   \n",
      "2  d3c68be5-9cb1-4d6e-ba18-5f81cf89affb   \n",
      "3  910107a6-2a42-41a2-b337-fbf22d6440fe   \n",
      "4  74f22819-1a8e-4646-8a9d-13323de8cdb8   \n",
      "\n",
      "                                     src  \\\n",
      "0               ko_mmlu__nutrition__test   \n",
      "1      ko_mmlu__conceptual_physics__test   \n",
      "2        ko_ai2_arc__ARC_Challenge__test   \n",
      "3        ko_ai2_arc__ARC_Challenge__test   \n",
      "4  ko_ai2_arc__ARC_Challenge__validation   \n",
      "\n",
      "                                             content  content_length  \n",
      "0  건강한 사람이 에너지 균형을 평형 상태로 유지하는 것은 중요합니다. 에너지 균형은 ...             381  \n",
      "1  수소, 산소, 질소 가스의 혼합물에서 평균 속도가 가장 빠른 분자는 수소입니다. 수...             231  \n",
      "2  종이와 플라스틱은 재활용 가능한 자원입니다. 중학교 과학 수업에서 우리는 종이와 플...             517  \n",
      "3  마이애미파랑나비는 남부 플로리다에서 멸종 위기에 처한 종입니다. 이 나비의 개체수 ...             371  \n",
      "4  비버는 나무를 베고, 덤불과 관목을 모아 강과 개울에 댐을 만드는 것으로 알려져 있...             503  \n"
     ]
    }
   ],
   "source": [
    "# 0. 데이터 샘플 추출\n",
    "\n",
    "print(\"처음 5개 행:\")\n",
    "print(df.head())"
   ]
  },
  {
   "cell_type": "markdown",
   "metadata": {},
   "source": [
    "#### => 이렇게 doc_id/src/content로 나눠져있고, 각각 문서별 id/출처/지식정보로 예상됨"
   ]
  },
  {
   "cell_type": "code",
   "execution_count": null,
   "metadata": {},
   "outputs": [
    {
     "name": "stdout",
     "output_type": "stream",
     "text": [
      "데이터셋 크기: 4272\n",
      "\n",
      "소스(src) 별 문서 수:\n",
      "src\n",
      "ko_ai2_arc__ARC_Challenge__test          943\n",
      "ko_ai2_arc__ARC_Challenge__train         866\n",
      "ko_ai2_arc__ARC_Challenge__validation    238\n",
      "ko_mmlu__conceptual_physics__test        211\n",
      "ko_mmlu__nutrition__test                 168\n",
      "                                        ... \n",
      "ko_mmlu__high_school_physics__train        1\n",
      "ko_mmlu__college_chemistry__train          1\n",
      "ko_mmlu__nutrition__train                  1\n",
      "ko_mmlu__high_school_chemistry__train      1\n",
      "ko_mmlu__high_school_biology__train        1\n",
      "Name: count, Length: 63, dtype: int64\n"
     ]
    }
   ],
   "source": [
    "# 1. 기본 정보 확인 \n",
    "print(\"데이터셋 크기:\", len(df))\n",
    "print(\"\\n소스(src) 별 문서 수:\")\n",
    "print(df['src'].value_counts())"
   ]
  },
  {
   "cell_type": "markdown",
   "metadata": {},
   "source": [
    "#### => 고등학교 내용, 간호학, 화학, 물리학 등에서 가져온 내용으로 보임 "
   ]
  },
  {
   "cell_type": "code",
   "execution_count": 3,
   "metadata": {},
   "outputs": [
    {
     "name": "stdout",
     "output_type": "stream",
     "text": [
      "\n",
      "문서 길이 통계:\n",
      "count    4272.000000\n",
      "mean      315.326779\n",
      "std       103.983172\n",
      "min        44.000000\n",
      "25%       251.000000\n",
      "50%       299.000000\n",
      "75%       357.000000\n",
      "max      1230.000000\n",
      "Name: content_length, dtype: float64\n"
     ]
    }
   ],
   "source": [
    "# 2. 문서 길이 분석\n",
    "df['content_length'] = df['content'].str.len()\n",
    "print(\"\\n문서 길이 통계:\")\n",
    "print(df['content_length'].describe())"
   ]
  },
  {
   "cell_type": "code",
   "execution_count": null,
   "metadata": {},
   "outputs": [
    {
     "name": "stdout",
     "output_type": "stream",
     "text": [
      "=== 가장 짧은 문서 (44자) ===\n",
      "문서 ID: d9760a71-24e5-4896-9ecd-82a5628de792\n",
      "소스: ko_mmlu__nutrition__validation\n",
      "길이: 44\n",
      "내용:\n",
      "북유럽과 남유럽 국가들에서 상당히 유사한 섭취를 보이는 영양소는 PUFA입니다.\n",
      "\n",
      "================================================================================\n",
      "\n",
      "=== 중간 길이 문서 (약 299자) ===\n",
      "문서 ID: 25e5f74a-d387-43b8-891d-6f55de5dc4bc\n",
      "소스: ko_mmlu__virology__test\n",
      "길이: 299\n",
      "내용:\n",
      "RNA 바이러스는 과도하게 변이하는 바이러스입니다. 이러한 바이러스는 RNA를 유전 정보로 사용하며, 그 변이 속도는 매우 빠릅니다. RNA 바이러스는 유전자 변이를 통해 새로운 변종을 만들어내고, 이는 종종 새로운 질병의 원인이 됩니다. 이러한 변이는 바이러스의 생존 전략 중 하나로, 환경 변화에 대응하기 위해 진화하는 과정입니다. RNA 바이러스의 과도한 변이는 백신 개발과 치료 방법의 어려움을 야기할 수 있으며, 전염성과 병원성을 증가시킬 수도 있습니다. 따라서 RNA 바이러스의 변이에 대한 연구와 감시는 중요한 과제입니다.\n",
      "\n",
      "================================================================================\n",
      "\n",
      "=== 가장 긴 문서 (1,230자) ===\n",
      "문서 ID: 1a58b722-ce6c-4cf6-9285-9336c2967301\n",
      "소스: ko_mmlu__college_physics__test\n",
      "길이: 1230\n",
      "내용:\n",
      "고체 디스크가 휴식 상태에서 시작하여 경사면을 따라 내려간다는 상황을 가정해보겠습니다. 이 디스크는 균일한 구조를 가지고 있으며, 미끄러지지 않고 경사면을 따라 움직입니다.\n",
      "\n",
      "일정 시간이 지난 후, 디스크의 총 운동 에너지 중 회전 운동 에너지가 차지하는 비율을 알아보고자 합니다. 회전 운동 에너지는 디스크의 회전에 의해 발생하는 에너지로, 디스크의 질량과 반지름에 의해 결정됩니다.\n",
      "\n",
      "이 문제에서는 디스크가 휴식 상태에서 시작하므로, 디스크의 운동 에너지는 전적으로 회전 운동 에너지로 이루어져 있습니다. 따라서 디스크의 총 운동 에너지 중 회전 운동 에너지가 차지하는 비율은 100%입니다.\n",
      "\n",
      "하지만 문제에서는 회전 운동 에너지가 차지하는 비율을 구하라고 하였으므로, 이를 구하기 위해 회전 운동 에너지와 총 운동 에너지의 비율을 계산해야 합니다.\n",
      "\n",
      "회전 운동 에너지는 다음과 같이 계산됩니다:\n",
      "회전 운동 에너지 = (1/2) * (회전 관성 모멘트) * (각속도)^2\n",
      "\n",
      "총 운동 에너지는 다음과 같이 계산됩니다:\n",
      "총 운동 에너지 = (1/2) * (질량) * (속도)^2\n",
      "\n",
      "여기서 회전 관성 모멘트는 디스크의 질량과 반지름에 의해 결정되며, 각속도는 디스크의 회전 속도를 나타냅니다.\n",
      "\n",
      "문제에서는 디스크가 균일한 고체이므로, 회전 관성 모멘트는 다음과 같이 계산됩니다:\n",
      "회전 관성 모멘트 = (1/2) * (질량) * (반지름)^2\n",
      "\n",
      "따라서 회전 운동 에너지와 총 운동 에너지의 비율은 다음과 같이 계산됩니다:\n",
      "회전 운동 에너지 / 총 운동 에너지 = ((1/2) * (1/2) * (반지름)^2 * (각속도)^2) / ((1/2) * (질량) * (속도)^2)\n",
      "\n",
      "이를 정리하면 다음과 같습니다:\n",
      "회전 운동 에너지 / 총 운동 에너지 = (반지름^2 * 각속도^2) / (질량 * 속도^2)\n",
      "\n",
      "문제에서는 디스크가 휴식 상태에서 시작하여 경사면을 따라 내려간다고 하였으므로, 디스크의 속도는 일정합니다. 따라서 속도를 제거하면 다음과 같습니다:\n",
      "회전 운동 에너지 / 총 운동 에너지 = (반지름^2 * 각속도^2) / (질량)\n",
      "\n",
      "이제 문제에서 주어진 답인 회전 운동 에너지가 총 운동 에너지 중 1/3을 차지한다는 것을 이용하여, 위의 식을 다시 쓰면 다음과 같습니다:\n",
      "1/3 = (반지름^2 * 각속도^2) / (질량)\n",
      "\n",
      "이를 정리하면 다음과 같습니다:\n",
      "반지름^2 * 각속도^2 = (1/3) * 질량\n",
      "\n",
      "따라서, 디스크의 총 운동 에너지 중 회전 운동 에너지가 차지하는 비율은 1/3입니다.\n"
     ]
    }
   ],
   "source": [
    "# 3. 위에서 결과로 나온 min/50%/max 에 대한 문서 길이별 예시 추출\n",
    "\n",
    "# 가장 짧은 문서\n",
    "shortest_doc = df.loc[df['content_length'].idxmin()]\n",
    "print(\"=== 가장 짧은 문서 (44자) ===\")\n",
    "print(f\"문서 ID: {shortest_doc['docid']}\")\n",
    "print(f\"소스: {shortest_doc['src']}\")\n",
    "print(f\"길이: {shortest_doc['content_length']}\")\n",
    "print(\"내용:\")\n",
    "print(shortest_doc['content'])\n",
    "print(\"\\n\" + \"=\"*80 + \"\\n\")\n",
    "\n",
    "# 중간 길이의 문서 (중앙값에 가장 가까운 문서)\n",
    "median_length = df['content_length'].median()\n",
    "middle_doc = df.iloc[(df['content_length'] - median_length).abs().idxmin()]\n",
    "print(\"=== 중간 길이 문서 (약 299자) ===\")\n",
    "print(f\"문서 ID: {middle_doc['docid']}\")\n",
    "print(f\"소스: {middle_doc['src']}\")\n",
    "print(f\"길이: {middle_doc['content_length']}\")\n",
    "print(\"내용:\")\n",
    "print(middle_doc['content'])\n",
    "print(\"\\n\" + \"=\"*80 + \"\\n\")\n",
    "\n",
    "# 가장 긴 문서\n",
    "longest_doc = df.loc[df['content_length'].idxmax()]\n",
    "print(\"=== 가장 긴 문서 (1,230자) ===\")\n",
    "print(f\"문서 ID: {longest_doc['docid']}\")\n",
    "print(f\"소스: {longest_doc['src']}\")\n",
    "print(f\"길이: {longest_doc['content_length']}\")\n",
    "print(\"내용:\")\n",
    "print(longest_doc['content'])"
   ]
  },
  {
   "cell_type": "code",
   "execution_count": 5,
   "metadata": {},
   "outputs": [
    {
     "name": "stdout",
     "output_type": "stream",
     "text": [
      "\n",
      "상위 20개 키워드:\n",
      "[('있습니다.', 5927), ('이러한', 3471), ('이는', 2337), ('합니다.', 2335), ('따라서,', 2240), ('중요한', 2111), ('역할을', 1769), ('통해', 1650), ('가장', 1511), ('있는', 1348), ('다양한', 1307), ('영향을', 1262), ('있으며,', 1244), ('위해', 1207), ('가지고', 1159), ('인해', 1148), ('따라서', 1119), ('다른', 1037), ('대한', 990), ('이를', 969)]\n"
     ]
    }
   ],
   "source": [
    "# 4. 자주 등장하는 키워드 분석\n",
    "def get_keywords(text):\n",
    "    # 간단한 키워드 추출 (공백 기준 분리)\n",
    "    return [word for word in text.split() if len(word) > 1]\n",
    "\n",
    "keywords = []\n",
    "for content in df['content']:\n",
    "    keywords.extend(get_keywords(content))\n",
    "\n",
    "print(\"\\n상위 20개 키워드:\")\n",
    "print(Counter(keywords).most_common(20))\n"
   ]
  },
  {
   "cell_type": "code",
   "execution_count": 6,
   "metadata": {},
   "outputs": [
    {
     "name": "stdout",
     "output_type": "stream",
     "text": [
      "\n",
      "docid 형식 샘플:\n",
      "0    42508ee0-c543-4338-878e-d98c6babee66\n",
      "1    4a437e7f-16c1-4c62-96b9-f173d44f4339\n",
      "2    d3c68be5-9cb1-4d6e-ba18-5f81cf89affb\n",
      "3    910107a6-2a42-41a2-b337-fbf22d6440fe\n",
      "4    74f22819-1a8e-4646-8a9d-13323de8cdb8\n",
      "Name: docid, dtype: object\n"
     ]
    }
   ],
   "source": [
    "# 5. docid 형식 확인\n",
    "print(\"\\ndocid 형식 샘플:\")\n",
    "print(df['docid'].head())"
   ]
  },
  {
   "cell_type": "code",
   "execution_count": null,
   "metadata": {},
   "outputs": [
    {
     "name": "stdout",
     "output_type": "stream",
     "text": [
      "\n",
      "중복 문서 수:\n",
      "6\n"
     ]
    }
   ],
   "source": [
    "# 6. 중복 문서 확인 \n",
    "print(\"\\n중복 문서 수:\")\n",
    "print(df['content'].duplicated().sum())"
   ]
  },
  {
   "cell_type": "markdown",
   "metadata": {},
   "source": [
    "#### => 실제로 확인해보니 중복되지 않아서 아래 완전 중복된 내용 다시 추출 > 12개 있음"
   ]
  },
  {
   "cell_type": "code",
   "execution_count": null,
   "metadata": {},
   "outputs": [
    {
     "name": "stdout",
     "output_type": "stream",
     "text": [
      "완전히 동일한 내용을 가진 문서 그룹:\n",
      "\n",
      "=== 동일 내용 문서 그룹 ===\n",
      "\n",
      "문서 ID: d758612c-6dfb-47b4-991d-6f053b282264\n",
      "소스: ko_mmlu__high_school_physics__test\n",
      "내용:\n",
      "공기에서 유리창 판으로 들어오는 단색광 빔은 속도와 파장에 변화가 일어납니다. 유리창을 통과하는 빛은 공기와 유리의 굴절률 차이로 인해 속도가 변하게 됩니다. 이로 인해 빛의 파장도 변화하게 되는데, 이를 파장 변화라고 합니다. 공기에서 유리창으로 들어오는 단색광 빔은 이러한 변화를 겪게 됩니다.\n",
      "\n",
      "문서 ID: 318f4fb1-92d2-4b4c-914f-f9ff8b885aed\n",
      "소스: ko_mmlu__high_school_physics__test\n",
      "내용:\n",
      "공기에서 유리창 판으로 들어오는 단색광 빔은 속도와 파장에 변화가 일어납니다. 유리창을 통과하는 빛은 공기와 유리의 굴절률 차이로 인해 속도가 변하게 됩니다. 이로 인해 빛의 파장도 변화하게 되는데, 이를 파장 변화라고 합니다. 공기에서 유리창으로 들어오는 단색광 빔은 이러한 변화를 겪게 됩니다.\n",
      "================================================================================\n",
      "\n",
      "=== 동일 내용 문서 그룹 ===\n",
      "\n",
      "문서 ID: d2145d8e-45aa-4ada-9b82-db197e7ee39a\n",
      "소스: ko_mmlu__college_physics__train\n",
      "내용:\n",
      "굴절 망원경은 굴절 렌즈로 구성되어 있으며, 이는 100 cm로 분리된 두 개의 수렴 렌즈로 이루어져 있습니다. 망원경의 안경 렌즈의 초점 거리는 20 cm입니다. 이러한 조건에서 망원경의 각배율은 4입니다. 각배율은 망원경의 능력을 나타내는 지표로, 망원경으로 관찰하는 대상의 크기를 실제 크기에 비해 얼마나 크게 보여주는지를 나타냅니다. 따라서, 이 굴절 망원경은 관찰 대상을 4배로 확대하여 보여줄 수 있습니다.\n",
      "\n",
      "문서 ID: b3da4d1b-f001-4632-92ab-bcc6bc9c2cc1\n",
      "소스: ko_mmlu__college_physics__train\n",
      "내용:\n",
      "굴절 망원경은 굴절 렌즈로 구성되어 있으며, 이는 100 cm로 분리된 두 개의 수렴 렌즈로 이루어져 있습니다. 망원경의 안경 렌즈의 초점 거리는 20 cm입니다. 이러한 조건에서 망원경의 각배율은 4입니다. 각배율은 망원경의 능력을 나타내는 지표로, 망원경으로 관찰하는 대상의 크기를 실제 크기에 비해 얼마나 크게 보여주는지를 나타냅니다. 따라서, 이 굴절 망원경은 관찰 대상을 4배로 확대하여 보여줄 수 있습니다.\n",
      "================================================================================\n",
      "\n",
      "=== 동일 내용 문서 그룹 ===\n",
      "\n",
      "문서 ID: 3ab2de66-dfde-431b-9363-f2671ae02598\n",
      "소스: ko_mmlu__college_physics__test\n",
      "내용:\n",
      "단일 전자 원자에서 전자가 l = 2 상태에 있다. 이 상태에서 허용되는 양자수 m_l의 값은 5개이다. 양자수 m_l은 전자의 자기적 운동량을 나타내며, l 값에 따라 허용되는 값의 수가 결정된다. l = 2인 경우, m_l은 -2, -1, 0, 1, 2의 값을 가질 수 있다. 이는 전자의 자기적 운동량이 -2, -1, 0, 1, 2인 상태를 허용한다는 것을 의미한다. 따라서, 허용되는 양자수 m_l의 값의 수는 5개이다.\n",
      "\n",
      "문서 ID: 4d4890f1-f158-4628-a26b-d1f34465783a\n",
      "소스: ko_mmlu__college_physics__test\n",
      "내용:\n",
      "단일 전자 원자에서 전자가 l = 2 상태에 있다. 이 상태에서 허용되는 양자수 m_l의 값은 5개이다. 양자수 m_l은 전자의 자기적 운동량을 나타내며, l 값에 따라 허용되는 값의 수가 결정된다. l = 2인 경우, m_l은 -2, -1, 0, 1, 2의 값을 가질 수 있다. 이는 전자의 자기적 운동량이 -2, -1, 0, 1, 2인 상태를 허용한다는 것을 의미한다. 따라서, 허용되는 양자수 m_l의 값의 수는 5개이다.\n",
      "================================================================================\n",
      "\n",
      "=== 동일 내용 문서 그룹 ===\n",
      "\n",
      "문서 ID: 91c0d551-8c1f-43c5-b019-916209f8cad6\n",
      "소스: ko_mmlu__college_physics__test\n",
      "내용:\n",
      "막대의 길이를 측정하는 관찰자가 막대를 평행하게 움직이면서 측정을 진행해야 합니다. 막대가 휴식 상태에서 1.00 m로 측정되었으며, 관찰자가 막대의 길이를 0.80 m로 측정하려면 막대에 평행하게 움직여야 하는 속도는 0.60c입니다. 이는 상대성 이론에 따라 막대의 길이가 관찰자의 속도에 따라 변화한다는 것을 보여줍니다. 따라서, 막대의 길이를 정확하게 측정하기 위해서는 관찰자가 막대에 평행하게 움직여야 합니다.\n",
      "\n",
      "문서 ID: 6c8c788c-6d12-4b8b-b216-dcfb51a07f28\n",
      "소스: ko_mmlu__college_physics__test\n",
      "내용:\n",
      "막대의 길이를 측정하는 관찰자가 막대를 평행하게 움직이면서 측정을 진행해야 합니다. 막대가 휴식 상태에서 1.00 m로 측정되었으며, 관찰자가 막대의 길이를 0.80 m로 측정하려면 막대에 평행하게 움직여야 하는 속도는 0.60c입니다. 이는 상대성 이론에 따라 막대의 길이가 관찰자의 속도에 따라 변화한다는 것을 보여줍니다. 따라서, 막대의 길이를 정확하게 측정하기 위해서는 관찰자가 막대에 평행하게 움직여야 합니다.\n",
      "================================================================================\n",
      "\n",
      "=== 동일 내용 문서 그룹 ===\n",
      "\n",
      "문서 ID: ed487053-8ce6-44c7-a566-57e96b04881b\n",
      "소스: ko_mmlu__college_physics__test\n",
      "내용:\n",
      "분광학은 가시 파장의 범위에서 빛의 특성을 연구하는 학문 분야입니다. 이를 위해 가장 좋은 유형의 레이저는 색소 레이저입니다. 색소 레이저는 다양한 색상의 빛을 발산할 수 있으며, 파장의 조절이 용이합니다. 이러한 특성으로 인해 분광학에서 색소 레이저는 널리 사용되고 있습니다. 색소 레이저는 분광기의 정확도를 높이고, 실험 결과를 더욱 정밀하게 분석할 수 있도록 도와줍니다. 따라서 가시 파장의 범위에서 분광학을 다루기에 가장 좋은 유형의 레이저는 색소 레이저입니다.\n",
      "\n",
      "문서 ID: 6c69f297-2ea2-40d1-ae6c-f038d0b57779\n",
      "소스: ko_mmlu__college_physics__test\n",
      "내용:\n",
      "분광학은 가시 파장의 범위에서 빛의 특성을 연구하는 학문 분야입니다. 이를 위해 가장 좋은 유형의 레이저는 색소 레이저입니다. 색소 레이저는 다양한 색상의 빛을 발산할 수 있으며, 파장의 조절이 용이합니다. 이러한 특성으로 인해 분광학에서 색소 레이저는 널리 사용되고 있습니다. 색소 레이저는 분광기의 정확도를 높이고, 실험 결과를 더욱 정밀하게 분석할 수 있도록 도와줍니다. 따라서 가시 파장의 범위에서 분광학을 다루기에 가장 좋은 유형의 레이저는 색소 레이저입니다.\n",
      "================================================================================\n",
      "\n",
      "=== 동일 내용 문서 그룹 ===\n",
      "\n",
      "문서 ID: 20f4153a-97db-4fb5-8447-b395a5270db6\n",
      "소스: ko_mmlu__college_physics__test\n",
      "내용:\n",
      "정의상, 표면 S를 통한 변위 전류는 S를 통한 전기력선의 변화율에 비례한다. 이는 전류의 크기와 방향을 결정하는 중요한 원리이다. 표면 S를 통해 흐르는 전류는 S를 통한 전기력선의 변화율에 따라 변위되며, 이는 전류의 세기와 방향을 결정하는 데 영향을 미친다. 따라서, S를 통한 전기력선의 변화율이 클수록 표면 S를 통한 변위 전류의 크기도 커지게 된다. 이러한 원리를 이해하면 전류의 흐름과 전기력선의 관계를 더욱 명확하게 이해할 수 있다.\n",
      "\n",
      "문서 ID: 10e5a8a2-e4af-4461-b6fe-c8a058b9fa0e\n",
      "소스: ko_mmlu__college_physics__test\n",
      "내용:\n",
      "정의상, 표면 S를 통한 변위 전류는 S를 통한 전기력선의 변화율에 비례한다. 이는 전류의 크기와 방향을 결정하는 중요한 원리이다. 표면 S를 통해 흐르는 전류는 S를 통한 전기력선의 변화율에 따라 변위되며, 이는 전류의 세기와 방향을 결정하는 데 영향을 미친다. 따라서, S를 통한 전기력선의 변화율이 클수록 표면 S를 통한 변위 전류의 크기도 커지게 된다. 이러한 원리를 이해하면 전류의 흐름과 전기력선의 관계를 더욱 명확하게 이해할 수 있다.\n",
      "================================================================================\n"
     ]
    }
   ],
   "source": [
    "# 7. 다시 완전히 동일한 content를 가진 문서들 찾기 \n",
    "duplicate_groups = df[df.duplicated(subset=['content'], keep=False)].sort_values('content')\n",
    "\n",
    "print(\"완전히 동일한 내용을 가진 문서 그룹:\")\n",
    "for content in duplicate_groups['content'].unique():\n",
    "    same_content = df[df['content'] == content]\n",
    "    if len(same_content) > 1:  # 2개 이상인 경우만 출력\n",
    "        print(\"\\n=== 동일 내용 문서 그룹 ===\")\n",
    "        for idx, row in same_content.iterrows():\n",
    "            print(f\"\\n문서 ID: {row['docid']}\")\n",
    "            print(f\"소스: {row['src']}\")\n",
    "            print(\"내용:\")\n",
    "            print(row['content'])\n",
    "        print(\"=\"*80)"
   ]
  },
  {
   "cell_type": "markdown",
   "metadata": {},
   "source": [
    "## 2. eval.jsonl"
   ]
  },
  {
   "cell_type": "markdown",
   "metadata": {},
   "source": [
    "#### 총 220개 중 20개는 일반 대화 20개는 멀티턴 대화로 구성"
   ]
  },
  {
   "cell_type": "code",
   "execution_count": 26,
   "metadata": {},
   "outputs": [],
   "source": [
    "# JSONL 파일 읽기\n",
    "data = []\n",
    "with open('/root/eval.jsonl', 'r', encoding='utf-8') as f:\n",
    "    for line in f:\n",
    "        data.append(json.loads(line))\n",
    "\n",
    "df = pd.DataFrame(data)"
   ]
  },
  {
   "cell_type": "code",
   "execution_count": 34,
   "metadata": {},
   "outputs": [
    {
     "name": "stdout",
     "output_type": "stream",
     "text": [
      "총 대화 수: 220\n",
      "\n",
      "데이터프레임 기본 정보:\n",
      "<class 'pandas.core.frame.DataFrame'>\n",
      "RangeIndex: 220 entries, 0 to 219\n",
      "Data columns (total 4 columns):\n",
      " #   Column         Non-Null Count  Dtype \n",
      "---  ------         --------------  ----- \n",
      " 0   eval_id        220 non-null    int64 \n",
      " 1   msg            220 non-null    object\n",
      " 2   dialogue_type  220 non-null    object\n",
      " 3   msg_length     220 non-null    int64 \n",
      "dtypes: int64(2), object(2)\n",
      "memory usage: 7.0+ KB\n",
      "None\n"
     ]
    }
   ],
   "source": [
    "# 1. 기본 데이터 정보\n",
    "print(\"총 대화 수:\", len(df))\n",
    "print(\"\\n데이터프레임 기본 정보:\")\n",
    "print(df.info())"
   ]
  },
  {
   "cell_type": "code",
   "execution_count": 35,
   "metadata": {},
   "outputs": [],
   "source": [
    "# 2. msg 구조 분석\n",
    "# msg 필드의 첫 번째 메시지 내용 추출\n",
    "df['user_content'] = df['msg'].apply(lambda x: x[0]['content'])"
   ]
  },
  {
   "cell_type": "code",
   "execution_count": 36,
   "metadata": {},
   "outputs": [
    {
     "name": "stdout",
     "output_type": "stream",
     "text": [
      "\n",
      "메시지 길이 통계:\n",
      "count    220.000000\n",
      "mean      24.236364\n",
      "std        9.610617\n",
      "min        6.000000\n",
      "25%       18.000000\n",
      "50%       23.000000\n",
      "75%       29.000000\n",
      "max       70.000000\n",
      "Name: content_length, dtype: float64\n"
     ]
    }
   ],
   "source": [
    "# 3. 메시지 길이 분석\n",
    "df['content_length'] = df['user_content'].str.len()\n",
    "print(\"\\n메시지 길이 통계:\")\n",
    "print(df['content_length'].describe())"
   ]
  },
  {
   "cell_type": "code",
   "execution_count": 38,
   "metadata": {},
   "outputs": [
    {
     "name": "stdout",
     "output_type": "stream",
     "text": [
      "\n",
      "=== 가장 긴 질문 5개 ===\n",
      "\n",
      "eval_id: 277\n",
      "길이: 70\n",
      "질문내용:\n",
      "바닥의 마찰이 없는 곳에서 두 사람이 서로 밀어낼때 무게가 덜 나가는 사람이 더 나가는 사람이 더 빨리 움직이게 되는 이유는?\n",
      "--------------------------------------------------------------------------------\n",
      "\n",
      "eval_id: 243\n",
      "길이: 55\n",
      "질문내용:\n",
      "사람이나 물체가 지구 위에서 땅속으로 꺼지거나 바깥으로 튕겨나가지 않고 가만히 서 있을 수 있잖아?\n",
      "--------------------------------------------------------------------------------\n",
      "\n",
      "eval_id: 241\n",
      "길이: 51\n",
      "질문내용:\n",
      "정육면체가 가라앉지 않고 물 위에 떠 있을 때 수면 윗부분에 해당하는 부피를 구하는 방법은?\n",
      "--------------------------------------------------------------------------------\n",
      "\n",
      "eval_id: 293\n",
      "길이: 49\n",
      "질문내용:\n",
      "두 물질이 다른 분자구조나 화학적인 성분으로 이루어져 있다는 것을 어떻게 알 수 있나요?\n",
      "--------------------------------------------------------------------------------\n",
      "\n",
      "eval_id: 37\n",
      "길이: 48\n",
      "질문내용:\n",
      "두개의 소스로부터 발생한 사건중 어떤 쪽에서 기인한 것인지 확률 계산하는 예시 알려줘.\n",
      "--------------------------------------------------------------------------------\n",
      "\n",
      "=== 가장 짧은 질문 5개 ===\n",
      "\n",
      "eval_id: 90\n",
      "길이: 6\n",
      "질문내용:\n",
      "안녕 반갑다\n",
      "--------------------------------------------------------------------------------\n",
      "\n",
      "eval_id: 222\n",
      "길이: 6\n",
      "질문내용:\n",
      "안녕 반가워\n",
      "--------------------------------------------------------------------------------\n",
      "\n",
      "eval_id: 220\n",
      "길이: 7\n",
      "질문내용:\n",
      "너는 누구야?\n",
      "--------------------------------------------------------------------------------\n",
      "\n",
      "eval_id: 227\n",
      "길이: 7\n",
      "질문내용:\n",
      "너는 누구니?\n",
      "--------------------------------------------------------------------------------\n",
      "\n",
      "eval_id: 103\n",
      "길이: 7\n",
      "질문내용:\n",
      "너 뭘 잘해?\n",
      "--------------------------------------------------------------------------------\n"
     ]
    }
   ],
   "source": [
    "# 4. 가장 긴/짧은 질문 5개씩 확인\n",
    "print(\"\\n=== 가장 긴 질문 5개 ===\")\n",
    "longest_msgs = df.nlargest(5, 'content_length')\n",
    "for idx, row in longest_msgs.iterrows():\n",
    "    print(f\"\\neval_id: {row['eval_id']}\")\n",
    "    print(f\"길이: {row['content_length']}\")\n",
    "    print(\"질문내용:\")\n",
    "    print(row['user_content'])\n",
    "    print(\"-\"*80)\n",
    "    \n",
    "print(\"\\n=== 가장 짧은 질문 5개 ===\")\n",
    "shortest_msgs = df.nsmallest(5, 'content_length')\n",
    "for idx, row in shortest_msgs.iterrows():\n",
    "    print(f\"\\neval_id: {row['eval_id']}\")\n",
    "    print(f\"길이: {row['content_length']}\")\n",
    "    print(\"질문내용:\")\n",
    "    print(row['user_content'])\n",
    "    print(\"-\"*80)"
   ]
  },
  {
   "cell_type": "code",
   "execution_count": 39,
   "metadata": {},
   "outputs": [
    {
     "name": "stdout",
     "output_type": "stream",
     "text": [
      "\n",
      "=== 랜덤 질문 샘플 5개 ===\n",
      "\n",
      "eval_id: 26\n",
      "길이: 21\n",
      "질문내용:\n",
      "짚신 벌레의 번식은 어떻게 이루어지나?\n",
      "--------------------------------------------------------------------------------\n",
      "\n",
      "eval_id: 33\n",
      "길이: 13\n",
      "질문내용:\n",
      "Python 공부중이야.\n",
      "--------------------------------------------------------------------------------\n",
      "\n",
      "eval_id: 215\n",
      "길이: 27\n",
      "질문내용:\n",
      "디엔에이와 단백질의 관계와 역할에 대해 설명해줘.\n",
      "--------------------------------------------------------------------------------\n",
      "\n",
      "eval_id: 42\n",
      "길이: 13\n",
      "질문내용:\n",
      "이란 콘트라 사건이 뭐야\n",
      "--------------------------------------------------------------------------------\n",
      "\n",
      "eval_id: 77\n",
      "길이: 43\n",
      "질문내용:\n",
      "새로운 생명체의 발생에 대한 오래된 믿음을 깨기 위해 어떤 방법이 사용되었나?\n",
      "--------------------------------------------------------------------------------\n"
     ]
    }
   ],
   "source": [
    "# 5. 랜덤 샘플 5개 확인\n",
    "print(\"\\n=== 랜덤 질문 샘플 5개 ===\")\n",
    "random_samples = df.sample(n=5)\n",
    "for idx, row in random_samples.iterrows():\n",
    "    print(f\"\\neval_id: {row['eval_id']}\")\n",
    "    print(f\"길이: {row['content_length']}\")\n",
    "    print(\"질문내용:\")\n",
    "    print(row['user_content'])\n",
    "    print(\"-\"*80)"
   ]
  },
  {
   "cell_type": "code",
   "execution_count": 40,
   "metadata": {},
   "outputs": [
    {
     "name": "stdout",
     "output_type": "stream",
     "text": [
      "\n",
      "질문 길이 구간별 분포:\n",
      "length_category\n",
      "(0.0, 10.0]     11\n",
      "(10.0, 20.0]    67\n",
      "(20.0, 30.0]    96\n",
      "(30.0, 40.0]    33\n",
      "(40.0, 50.0]    10\n",
      "(50.0, inf]      3\n",
      "Name: count, dtype: int64\n"
     ]
    }
   ],
   "source": [
    "# 6. 질문 길이 구간별 분포\n",
    "print(\"\\n질문 길이 구간별 분포:\")\n",
    "length_bins = [0, 10, 20, 30, 40, 50, float('inf')]\n",
    "df['length_category'] = pd.cut(df['content_length'], bins=length_bins)\n",
    "print(df['length_category'].value_counts().sort_index())"
   ]
  },
  {
   "cell_type": "code",
   "execution_count": 43,
   "metadata": {},
   "outputs": [
    {
     "name": "stdout",
     "output_type": "stream",
     "text": [
      "\n",
      "=== 가장 적은 구간 ((50.0, inf])의 샘플 ===\n",
      "\n",
      "eval_id: 241\n",
      "길이: 51\n",
      "질문내용:\n",
      "정육면체가 가라앉지 않고 물 위에 떠 있을 때 수면 윗부분에 해당하는 부피를 구하는 방법은?\n",
      "--------------------------------------------------------------------------------\n",
      "\n",
      "eval_id: 243\n",
      "길이: 55\n",
      "질문내용:\n",
      "사람이나 물체가 지구 위에서 땅속으로 꺼지거나 바깥으로 튕겨나가지 않고 가만히 서 있을 수 있잖아?\n",
      "--------------------------------------------------------------------------------\n",
      "\n",
      "eval_id: 277\n",
      "길이: 70\n",
      "질문내용:\n",
      "바닥의 마찰이 없는 곳에서 두 사람이 서로 밀어낼때 무게가 덜 나가는 사람이 더 나가는 사람이 더 빨리 움직이게 되는 이유는?\n",
      "--------------------------------------------------------------------------------\n",
      "\n",
      "=== 가장 많은 구간 ((20.0, 30.0])의 샘플 5개 ===\n",
      "\n",
      "eval_id: 258\n",
      "길이: 30\n",
      "질문내용:\n",
      "머클-담고르 해시 함수를 사용한 MAC 보안 취약점은?\n",
      "--------------------------------------------------------------------------------\n",
      "\n",
      "eval_id: 306\n",
      "길이: 24\n",
      "질문내용:\n",
      "은하에는 엄청나게 많은 별들이 모여 있잖아?\n",
      "--------------------------------------------------------------------------------\n",
      "\n",
      "eval_id: 255\n",
      "길이: 28\n",
      "질문내용:\n",
      "어떤 물체를 매우 크게 확대해서 볼수 있는 기계는?\n",
      "--------------------------------------------------------------------------------\n",
      "\n",
      "eval_id: 45\n",
      "길이: 22\n",
      "질문내용:\n",
      "건설 현장에서 망치로 벽을 치는 이유는?\n",
      "--------------------------------------------------------------------------------\n",
      "\n",
      "eval_id: 105\n",
      "길이: 25\n",
      "질문내용:\n",
      "연구의 과정과 결과를 잘 기록해야 하는 이유?\n",
      "--------------------------------------------------------------------------------\n"
     ]
    }
   ],
   "source": [
    "# 6-1. 가장 적은 구간의 샘플\n",
    "distribution = df['length_category'].value_counts().sort_index()\n",
    "\n",
    "min_category = distribution.idxmin()\n",
    "print(f\"\\n=== 가장 적은 구간 ({min_category})의 샘플 ===\")\n",
    "min_samples = df[df['length_category'] == min_category]\n",
    "for idx, row in min_samples.iterrows():\n",
    "   print(f\"\\neval_id: {row['eval_id']}\")\n",
    "   print(f\"길이: {row['content_length']}\")\n",
    "   print(\"질문내용:\")\n",
    "   print(row['user_content'])\n",
    "   print(\"-\"*80)\n",
    "\n",
    "# 6-2. 가장 많은 구간의 샘플\n",
    "max_category = distribution.idxmax()\n",
    "print(f\"\\n=== 가장 많은 구간 ({max_category})의 샘플 5개 ===\")\n",
    "max_samples = df[df['length_category'] == max_category].sample(n=5)\n",
    "for idx, row in max_samples.iterrows():\n",
    "   print(f\"\\neval_id: {row['eval_id']}\")\n",
    "   print(f\"길이: {row['content_length']}\")\n",
    "   print(\"질문내용:\")\n",
    "   print(row['user_content'])\n",
    "   print(\"-\"*80)"
   ]
  },
  {
   "cell_type": "code",
   "execution_count": 41,
   "metadata": {},
   "outputs": [
    {
     "name": "stdout",
     "output_type": "stream",
     "text": [
      "\n",
      "상위 20개 키워드:\n",
      "[('대해', 49), ('알려줘.', 33), ('어떻게', 19), ('설명해줘.', 16), ('어떤', 14), ('있는', 14), ('있어?', 13), ('방법은?', 11), ('이유는?', 11), ('뭐야?', 11), ('미치는', 9), ('영향은?', 7), ('하는', 7), ('역할에', 7), ('너무', 6), ('뭐가', 6), ('위한', 5), ('있나?', 5), ('원리는?', 5), ('가장', 5)]\n"
     ]
    }
   ],
   "source": [
    "# 7. 자주 등장하는 키워드 분석\n",
    "def get_keywords(text):\n",
    "    return [word for word in text.split() if len(word) > 1]\n",
    "\n",
    "keywords = []\n",
    "for content in df['user_content']:\n",
    "    keywords.extend(get_keywords(content))\n",
    "\n",
    "print(\"\\n상위 20개 키워드:\")\n",
    "print(Counter(keywords).most_common(20))"
   ]
  },
  {
   "cell_type": "code",
   "execution_count": 42,
   "metadata": {},
   "outputs": [
    {
     "name": "stdout",
     "output_type": "stream",
     "text": [
      "\n",
      "질문 종결 형태:\n",
      "user_content\n",
      "?    144\n",
      ".     64\n",
      "!      7\n",
      "야      1\n",
      "구      1\n",
      "Name: count, dtype: int64\n"
     ]
    }
   ],
   "source": [
    "# 8. 질문 끝나는 형태 분석\n",
    "print(\"\\n질문 종결 형태:\")\n",
    "endings = df['user_content'].apply(lambda x: x[-1] if len(x) > 0 else '')\n",
    "print(endings.value_counts().head())"
   ]
  }
 ],
 "metadata": {
  "kernelspec": {
   "display_name": "base",
   "language": "python",
   "name": "python3"
  },
  "language_info": {
   "codemirror_mode": {
    "name": "ipython",
    "version": 3
   },
   "file_extension": ".py",
   "mimetype": "text/x-python",
   "name": "python",
   "nbconvert_exporter": "python",
   "pygments_lexer": "ipython3",
   "version": "3.10.13"
  }
 },
 "nbformat": 4,
 "nbformat_minor": 2
}
